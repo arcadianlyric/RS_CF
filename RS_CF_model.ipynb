{
 "cells": [
  {
   "cell_type": "code",
   "execution_count": 1,
   "metadata": {},
   "outputs": [],
   "source": [
    "import requests \n",
    "import json\n",
    "import os\n",
    "import sys\n",
    "import time\n",
    "import re\n",
    "import sqlalchemy\n",
    "import pandas as pd\n",
    "import numpy as np\n",
    "from math import log\n",
    "from pyspark import SparkContext\n",
    "from pyspark.mllib.recommendation import ALS, MatrixFactorizationModel, Rating\n",
    "import matplotlib.pyplot as plt\n",
    "%matplotlib inline"
   ]
  },
  {
   "cell_type": "markdown",
   "metadata": {},
   "source": [
    "### RS with Collaborative Filtering\n",
    "#### workflow\n",
    "create rating_rdd = user_id, app_id, rating=log(time played+1)  \n",
    "traing model with pyspark.mllib.recommendation.ALS  \n",
    "make user or item based recommendation   \n",
    "evaluate model  "
   ]
  },
  {
   "cell_type": "code",
   "execution_count": null,
   "metadata": {},
   "outputs": [],
   "source": [
    "# sc.stop()"
   ]
  },
  {
   "cell_type": "code",
   "execution_count": 2,
   "metadata": {},
   "outputs": [],
   "source": [
    "sc = SparkContext.getOrCreate()\n",
    "def format_text(raw_string):\n",
    "\tuser_inventory = json.loads(raw_string)\n",
    "\treturn list(user_inventory.items())[0]"
   ]
  },
  {
   "cell_type": "code",
   "execution_count": 3,
   "metadata": {},
   "outputs": [],
   "source": [
    "# init rdd\n",
    "step1 = sc.textFile('user_play_events.txt')\n",
    "# preprocess, load json \n",
    "step2 = step1.map(format_text)\n",
    "# replace user_id with idx, otherwise got error in traing: Ratings id exceeds max integer\n",
    "# value of 2147483647\n",
    "step3 = step2.zipWithIndex()"
   ]
  },
  {
   "cell_type": "code",
   "execution_count": 32,
   "metadata": {},
   "outputs": [
    {
     "data": {
      "text/plain": [
       "[(('xxxx',\n",
       "   [{'appid': 4000, 'playtime_2weeks': 49, 'playtime_forever': 370},\n",
       "    {'appid': 110800, 'playtime_forever': 9},\n",
       "    {'appid': 226320, 'playtime_forever': 0},\n",
       "    {'appid': 250320, 'playtime_2weeks': 79, 'playtime_forever': 507},\n",
       "    {'appid': 296470, 'playtime_2weeks': 68, 'playtime_forever': 78},\n",
       "    {'appid': 301520, 'playtime_forever': 20},\n",
       "    {'appid': 205790, 'playtime_forever': 0},\n",
       "    {'appid': 730, 'playtime_2weeks': 114, 'playtime_forever': 5973},\n",
       "    {'appid': 218620, 'playtime_forever': 54},\n",
       "    {'appid': 352460, 'playtime_forever': 36},\n",
       "    {'appid': 34270, 'playtime_forever': 0},\n",
       "    {'appid': 205230, 'playtime_forever': 1},\n",
       "    {'appid': 205950, 'playtime_forever': 0}]),\n",
       "  0)]"
      ]
     },
     "execution_count": 32,
     "metadata": {},
     "output_type": "execute_result"
    }
   ],
   "source": [
    "step3.take(1) \n",
    "# format = [((use_id, [{},{},...]),idx),(),...]"
   ]
  },
  {
   "cell_type": "code",
   "execution_count": 4,
   "metadata": {},
   "outputs": [],
   "source": [
    "# = user_id, app_id, rating=log(playtime_forever+1).StandardScaler()\n",
    "def format_rating(events):\n",
    "    ((user_id, play_events), idx) = events\n",
    "    if play_events != None:\n",
    "        try:\n",
    "            return (idx, [(play_event.get('appid'), log(play_event.get('playtime_forever')+1)) for play_event in play_events])\n",
    "        except:\n",
    "            return (idx, []) # if pass cause TypeError: 'NoneType' object is not subscriptable \n",
    "    else:\n",
    "        return (idx, [])"
   ]
  },
  {
   "cell_type": "code",
   "execution_count": 5,
   "metadata": {},
   "outputs": [],
   "source": [
    "ratings = step3.map(format_rating).flatMapValues(lambda x: x)\n",
    "rating_rdd = ratings.map(lambda l: Rating(int(l[0]), int(l[1][0]), float(l[1][1])))"
   ]
  },
  {
   "cell_type": "code",
   "execution_count": 69,
   "metadata": {},
   "outputs": [],
   "source": [
    "# distribution of rating(log(time played))\n",
    "n = rating_rdd.map(lambda x:x[2]).count()\n",
    "rating_score = rating_rdd.map(lambda x:x[2]).take(n)"
   ]
  },
  {
   "cell_type": "code",
   "execution_count": 23,
   "metadata": {},
   "outputs": [
    {
     "data": {
      "text/plain": [
       "12.98329669328113"
      ]
     },
     "execution_count": 23,
     "metadata": {},
     "output_type": "execute_result"
    }
   ],
   "source": [
    "max(rating_score)"
   ]
  },
  {
   "cell_type": "code",
   "execution_count": 67,
   "metadata": {},
   "outputs": [
    {
     "data": {
      "text/plain": [
       "127229"
      ]
     },
     "execution_count": 67,
     "metadata": {},
     "output_type": "execute_result"
    }
   ],
   "source": [
    "rating_score.count(log(1))"
   ]
  },
  {
   "cell_type": "code",
   "execution_count": 25,
   "metadata": {},
   "outputs": [
    {
     "data": {
      "text/plain": [
       "Text(0,0.5,'count')"
      ]
     },
     "execution_count": 25,
     "metadata": {},
     "output_type": "execute_result"
    },
    {
     "data": {
      "image/png": "[encoded data removed]",
      "text/plain": [
       "<Figure size 432x288 with 1 Axes>"
      ]
     },
     "metadata": {},
     "output_type": "display_data"
    }
   ],
   "source": [
    "# hist plot\n",
    "bins = np.arange(0, max(rating_score)+1, 1) # fixed bin size\n",
    "plt.xlim([min(rating_score)-1, max(rating_score)+1])\n",
    "plt.hist(rating_score, bins=bins, alpha=0.5)\n",
    "plt.title('Distribution of rating=log(time played)')\n",
    "plt.xlabel('score')\n",
    "plt.ylabel('count')\n",
    "# 1. many items not played\n",
    "# 2. the rest part look like normal distribution, but shapiro test indicates no"
   ]
  },
  {
   "cell_type": "code",
   "execution_count": 81,
   "metadata": {},
   "outputs": [
    {
     "name": "stderr",
     "output_type": "stream",
     "text": [
      "/Users/YC/anaconda3/lib/python3.5/site-packages/scipy/stats/morestats.py:1310: UserWarning: p-value may not be accurate for N > 5000.\n",
      "  warnings.warn(\"p-value may not be accurate for N > 5000.\")\n"
     ]
    },
    {
     "data": {
      "text/plain": [
       "(0.9948904514312744, 0.0)"
      ]
     },
     "execution_count": 81,
     "metadata": {},
     "output_type": "execute_result"
    }
   ],
   "source": [
    "from scipy import stats\n",
    "x = list(filter(lambda a: a != log(1), rating_score))\n",
    "y = list(filter(lambda a: a != log(2), x))\n",
    "stats.shapiro(y)"
   ]
  },
  {
   "cell_type": "code",
   "execution_count": 12,
   "metadata": {},
   "outputs": [
    {
     "data": {
      "text/plain": [
       "4460"
      ]
     },
     "execution_count": 12,
     "metadata": {},
     "output_type": "execute_result"
    }
   ],
   "source": [
    "# distinct user\n",
    "rating_rdd.map(lambda x:x[0]).distinct().count()"
   ]
  },
  {
   "cell_type": "code",
   "execution_count": 16,
   "metadata": {},
   "outputs": [
    {
     "data": {
      "text/plain": [
       "7784"
      ]
     },
     "execution_count": 16,
     "metadata": {},
     "output_type": "execute_result"
    }
   ],
   "source": [
    "# distinct game\n",
    "rating_rdd.map(lambda x:x[1]).distinct().count()"
   ]
  },
  {
   "cell_type": "code",
   "execution_count": 137,
   "metadata": {},
   "outputs": [],
   "source": [
    "# build the recommendation model using ALS\n",
    "rank = 10\n",
    "numIterations = 10\n",
    "model = ALS.train(rating_rdd, rank, numIterations) "
   ]
  },
  {
   "cell_type": "code",
   "execution_count": 138,
   "metadata": {},
   "outputs": [
    {
     "data": {
      "text/plain": [
       "[Rating(user=42, product=214850, rating=21.102814499624248),\n",
       " Rating(user=42, product=207890, rating=19.427778592098072),\n",
       " Rating(user=42, product=251490, rating=17.70323866432006),\n",
       " Rating(user=42, product=11440, rating=16.73315586913441),\n",
       " Rating(user=42, product=297350, rating=16.46427683322638)]"
      ]
     },
     "execution_count": 138,
     "metadata": {},
     "output_type": "execute_result"
    }
   ],
   "source": [
    "# recommand 5 games for user idx#42\n",
    "model.recommendProducts(42,5)"
   ]
  },
  {
   "cell_type": "code",
   "execution_count": 140,
   "metadata": {},
   "outputs": [
    {
     "data": {
      "text/plain": [
       "[Rating(user=793, product=214850, rating=59.359090711161535),\n",
       " Rating(user=3936, product=214850, rating=48.2801288617216),\n",
       " Rating(user=4440, product=214850, rating=45.85447774131616),\n",
       " Rating(user=1277, product=214850, rating=45.12389176632183),\n",
       " Rating(user=201, product=214850, rating=44.63127864602578)]"
      ]
     },
     "execution_count": 140,
     "metadata": {},
     "output_type": "execute_result"
    }
   ],
   "source": [
    "# recommand 5 users for game#214850\n",
    "model.recommendUsers(214850,5)"
   ]
  },
  {
   "cell_type": "code",
   "execution_count": 141,
   "metadata": {},
   "outputs": [
    {
     "data": {
      "text/plain": [
       "21.102814499624248"
      ]
     },
     "execution_count": 141,
     "metadata": {},
     "output_type": "execute_result"
    }
   ],
   "source": [
    "# predict rating for user#42 on game#214850\n",
    "model.predict(42,214850)"
   ]
  },
  {
   "cell_type": "code",
   "execution_count": 185,
   "metadata": {},
   "outputs": [],
   "source": [
    "# map user_id to idx\n",
    "# error: Ratings id exceeds max integer value of 2147483647\n",
    "def user_id_to_idx(text):\n",
    "\t((user_id,lst_inventory),index) = text\n",
    "\treturn (index, str(user_id))\n",
    "user_id_idx_dict = step3.map(user_id_to_idx).collectAsMap()"
   ]
  },
  {
   "cell_type": "code",
   "execution_count": 191,
   "metadata": {},
   "outputs": [
    {
     "name": "stdout",
     "output_type": "stream",
     "text": [
      "model recommends game#214850 for user_id#xxxx (rating score=21.10)\n",
      "model recommends game#207890 for user_id#xxxx (rating score=19.43)\n",
      "model recommends game#251490 for user_id#xxxx (rating score=17.70)\n",
      "model recommends game#11440 for user_id#xxxx (rating score=16.73)\n",
      "model recommends game#297350 for user_id#xxxx (rating score=16.46)\n"
     ]
    }
   ],
   "source": [
    "# recommand 5 game for idx#42\n",
    "idx = 42\n",
    "rec_prod = model.recommendProducts(idx,5)\n",
    "for i in rec_prod:\n",
    "    print('model recommends game#'+str(i[1])+' for user_id#'+user_id_idx_dict.get(idx)+' (rating score='+\"{0:.2f}\".format(round(i[2],2))+')')"
   ]
  },
  {
   "cell_type": "code",
   "execution_count": 153,
   "metadata": {},
   "outputs": [
    {
     "name": "stdout",
     "output_type": "stream",
     "text": [
      "Mean Squared Error = 2.6761225293126327\n"
     ]
    }
   ],
   "source": [
    "# evaluate the model on training data\n",
    "testdata = ratings.map(lambda l: (int(l[0]), int(l[1][0])))\n",
    "predictions = model.predictAll(testdata).map(lambda r: ((r[0], r[1]), r[2]))\n",
    "ratesAndPreds = ratings.map(lambda l: (((int(l[0]), int(l[1][0])),float(l[1][1])))).join(predictions)\n",
    "MSE = ratesAndPreds.map(lambda r: (r[1][0] - r[1][1])**2).mean()\n",
    "print(\"Mean Squared Error = \" + str(MSE))"
   ]
  },
  {
   "cell_type": "code",
   "execution_count": null,
   "metadata": {},
   "outputs": [],
   "source": [
    "# save model\n",
    "model.save(sc, \"gaming_collaborative_filter\")"
   ]
  },
  {
   "cell_type": "code",
   "execution_count": null,
   "metadata": {},
   "outputs": [],
   "source": []
  }
 ],
 "metadata": {
  "anaconda-cloud": {},
  "kernelspec": {
   "display_name": "Python [default]",
   "language": "python",
   "name": "python3"
  },
  "language_info": {
   "codemirror_mode": {
    "name": "ipython",
    "version": 3
   },
   "file_extension": ".py",
   "mimetype": "text/x-python",
   "name": "python",
   "nbconvert_exporter": "python",
   "pygments_lexer": "ipython3",
   "version": "3.5.5"
  }
 },
 "nbformat": 4,
 "nbformat_minor": 2
}
